{
 "cells": [
  {
   "cell_type": "code",
   "execution_count": 1,
   "id": "1205d4ab",
   "metadata": {},
   "outputs": [],
   "source": [
    "import os, shutil\n",
    "from datetime import datetime"
   ]
  },
  {
   "cell_type": "code",
   "execution_count": 2,
   "id": "2858c333",
   "metadata": {},
   "outputs": [],
   "source": [
    "path = r\"D:/Data Analyst Portfolio/File Sorter Project2/\""
   ]
  },
  {
   "cell_type": "code",
   "execution_count": 3,
   "id": "0408b15f",
   "metadata": {},
   "outputs": [],
   "source": [
    "file_name = os.listdir(path)"
   ]
  },
  {
   "cell_type": "code",
   "execution_count": 4,
   "id": "23ac3946",
   "metadata": {},
   "outputs": [],
   "source": [
    "def get_year(path, file):\n",
    "    return datetime.fromtimestamp(os.path.getctime(path + file)).strftime(\"%Y\")"
   ]
  },
  {
   "cell_type": "code",
   "execution_count": 5,
   "id": "7c5a6976",
   "metadata": {},
   "outputs": [],
   "source": [
    "year_list = []\n",
    "\n",
    "for file in file_name:\n",
    "    if get_year(path, file) in year_list:\n",
    "        pass\n",
    "    else: year_list.append(get_year(path, file))\n",
    "\n",
    "for file in file_name:\n",
    "    if file in year_list:\n",
    "        pass\n",
    "    elif not os.path.exists(path + get_year(path, file)):\n",
    "        os.makedirs((path + get_year(path, file)))\n",
    "        shutil.move(path + file, path + get_year(path, file) + \"/\" + file)\n",
    "    else: shutil.move(path + file, path + get_year(path, file) + \"/\" + file)"
   ]
  }
 ],
 "metadata": {
  "kernelspec": {
   "display_name": "Python 3 (ipykernel)",
   "language": "python",
   "name": "python3"
  },
  "language_info": {
   "codemirror_mode": {
    "name": "ipython",
    "version": 3
   },
   "file_extension": ".py",
   "mimetype": "text/x-python",
   "name": "python",
   "nbconvert_exporter": "python",
   "pygments_lexer": "ipython3",
   "version": "3.11.5"
  }
 },
 "nbformat": 4,
 "nbformat_minor": 5
}
